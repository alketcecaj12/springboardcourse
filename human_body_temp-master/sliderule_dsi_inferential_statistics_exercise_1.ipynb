{
 "cells": [
  {
   "cell_type": "markdown",
   "metadata": {},
   "source": [
    "# What is the True Normal Human Body Temperature? \n",
    "\n",
    "#### Background\n",
    "\n",
    "The mean normal body temperature was held to be 37$^{\\circ}$C or 98.6$^{\\circ}$F for more than 120 years since it was first conceptualized and reported by Carl Wunderlich in a famous 1868 book. But, is this value statistically correct?"
   ]
  },
  {
   "cell_type": "markdown",
   "metadata": {},
   "source": [
    "<h3>Exercises</h3>\n",
    "\n",
    "<p>In this exercise, you will analyze a dataset of human body temperatures and employ the concepts of hypothesis testing, confidence intervals, and statistical significance.</p>\n",
    "\n",
    "<p>Answer the following questions <b>in this notebook below and submit to your Github account</b>.</p> \n",
    "\n",
    "<ol>\n",
    "<li>  Is the distribution of body temperatures normal? \n",
    "    <ul>\n",
    "    <li> Although this is not a requirement for the Central Limit Theorem to hold (read the introduction on Wikipedia's page about the CLT carefully: https://en.wikipedia.org/wiki/Central_limit_theorem), it gives us some peace of mind that the population may also be normally distributed if we assume that this sample is representative of the population.\n",
    "    <li> Think about the way you're going to check for the normality of the distribution. Graphical methods are usually used first, but there are also other ways: https://en.wikipedia.org/wiki/Normality_test\n",
    "    </ul>\n",
    "<li>  Is the sample size large? Are the observations independent?\n",
    "    <ul>\n",
    "    <li> Remember that this is a condition for the Central Limit Theorem, and hence the statistical tests we are using, to apply.\n",
    "    </ul>\n",
    "<li>  Is the true population mean really 98.6 degrees F?\n",
    "    <ul>\n",
    "    <li> First, try a bootstrap hypothesis test.\n",
    "    <li> Now, let's try frequentist statistical testing. Would you use a one-sample or two-sample test? Why?\n",
    "    <li> In this situation, is it appropriate to use the $t$ or $z$ statistic? \n",
    "    <li> Now try using the other test. How is the result be different? Why?\n",
    "    </ul>\n",
    "<li>  Draw a small sample of size 10 from the data and repeat both frequentist tests. \n",
    "    <ul>\n",
    "    <li> Which one is the correct one to use? \n",
    "    <li> What do you notice? What does this tell you about the difference in application of the $t$ and $z$ statistic?\n",
    "    </ul>\n",
    "<li>  At what temperature should we consider someone's temperature to be \"abnormal\"?\n",
    "    <ul>\n",
    "    <li> As in the previous example, try calculating everything using the boostrap approach, as well as the frequentist approach.\n",
    "    <li> Start by computing the margin of error and confidence interval. When calculating the confidence interval, keep in mind that you should use the appropriate formula for one draw, and not N draws.\n",
    "    </ul>\n",
    "<li>  Is there a significant difference between males and females in normal temperature?\n",
    "    <ul>\n",
    "    <li> What testing approach did you use and why?\n",
    "    <li> Write a story with your conclusion in the context of the original problem.\n",
    "    </ul>\n",
    "</ol>\n",
    "\n",
    "You can include written notes in notebook cells using Markdown: \n",
    "   - In the control panel at the top, choose Cell > Cell Type > Markdown\n",
    "   - Markdown syntax: http://nestacms.com/docs/creating-content/markdown-cheat-sheet\n",
    "\n",
    "#### Resources\n",
    "\n",
    "+ Information and data sources: http://www.amstat.org/publications/jse/datasets/normtemp.txt, http://www.amstat.org/publications/jse/jse_data_archive.htm\n",
    "+ Markdown syntax: http://nestacms.com/docs/creating-content/markdown-cheat-sheet\n",
    "\n",
    "****"
   ]
  },
  {
   "cell_type": "code",
   "execution_count": 2,
   "metadata": {},
   "outputs": [],
   "source": [
    "import pandas as pd\n",
    "import numpy as np \n",
    "from scipy import stats\n",
    "from scipy.stats import norm\n",
    "from matplotlib import pyplot\n",
    "from scipy.stats import ttest_ind\n",
    "from sklearn.utils import resample\n",
    "\n",
    "df = pd.read_csv('data/human_body_temperature.csv')"
   ]
  },
  {
   "cell_type": "code",
   "execution_count": 3,
   "metadata": {},
   "outputs": [],
   "source": [
    "# Your work here."
   ]
  },
  {
   "cell_type": "code",
   "execution_count": 4,
   "metadata": {},
   "outputs": [
    {
     "data": {
      "text/html": [
       "<div>\n",
       "<style scoped>\n",
       "    .dataframe tbody tr th:only-of-type {\n",
       "        vertical-align: middle;\n",
       "    }\n",
       "\n",
       "    .dataframe tbody tr th {\n",
       "        vertical-align: top;\n",
       "    }\n",
       "\n",
       "    .dataframe thead th {\n",
       "        text-align: right;\n",
       "    }\n",
       "</style>\n",
       "<table border=\"1\" class=\"dataframe\">\n",
       "  <thead>\n",
       "    <tr style=\"text-align: right;\">\n",
       "      <th></th>\n",
       "      <th>temperature</th>\n",
       "      <th>heart_rate</th>\n",
       "    </tr>\n",
       "  </thead>\n",
       "  <tbody>\n",
       "    <tr>\n",
       "      <th>count</th>\n",
       "      <td>130.000000</td>\n",
       "      <td>130.000000</td>\n",
       "    </tr>\n",
       "    <tr>\n",
       "      <th>mean</th>\n",
       "      <td>98.249231</td>\n",
       "      <td>73.761538</td>\n",
       "    </tr>\n",
       "    <tr>\n",
       "      <th>std</th>\n",
       "      <td>0.733183</td>\n",
       "      <td>7.062077</td>\n",
       "    </tr>\n",
       "    <tr>\n",
       "      <th>min</th>\n",
       "      <td>96.300000</td>\n",
       "      <td>57.000000</td>\n",
       "    </tr>\n",
       "    <tr>\n",
       "      <th>25%</th>\n",
       "      <td>97.800000</td>\n",
       "      <td>69.000000</td>\n",
       "    </tr>\n",
       "    <tr>\n",
       "      <th>50%</th>\n",
       "      <td>98.300000</td>\n",
       "      <td>74.000000</td>\n",
       "    </tr>\n",
       "    <tr>\n",
       "      <th>75%</th>\n",
       "      <td>98.700000</td>\n",
       "      <td>79.000000</td>\n",
       "    </tr>\n",
       "    <tr>\n",
       "      <th>max</th>\n",
       "      <td>100.800000</td>\n",
       "      <td>89.000000</td>\n",
       "    </tr>\n",
       "  </tbody>\n",
       "</table>\n",
       "</div>"
      ],
      "text/plain": [
       "       temperature  heart_rate\n",
       "count   130.000000  130.000000\n",
       "mean     98.249231   73.761538\n",
       "std       0.733183    7.062077\n",
       "min      96.300000   57.000000\n",
       "25%      97.800000   69.000000\n",
       "50%      98.300000   74.000000\n",
       "75%      98.700000   79.000000\n",
       "max     100.800000   89.000000"
      ]
     },
     "execution_count": 4,
     "metadata": {},
     "output_type": "execute_result"
    }
   ],
   "source": [
    "df.describe()"
   ]
  },
  {
   "cell_type": "markdown",
   "metadata": {},
   "source": [
    "### 1- Is the distribution of body temperatures normal ?\n",
    "#### In order to test the hypothesis Ho i.e \"the temperature variable is distributed normally\", I have used the normaltest() method defined in the stats module of the scipy library.  By definition when testing an hypotheis we evaluate the p-value. If the p-value > alpha (where alpha is the level of significance (0.05 - 0.01) of the test ) the result is not significant so Ho cannot be rejected. I tested both alpha = 0.05 (confidence level 95%) and alpha = 0.01 (confidence level 99%) and I got in both cases that the hypothesi Ho cannot be rejected. So the temperature distribution is normal "
   ]
  },
  {
   "cell_type": "code",
   "execution_count": 5,
   "metadata": {},
   "outputs": [],
   "source": [
    "temp = np.array(df['temperature'])\n"
   ]
  },
  {
   "cell_type": "code",
   "execution_count": 6,
   "metadata": {},
   "outputs": [
    {
     "name": "stdout",
     "output_type": "stream",
     "text": [
      "0.2587479863488254  = p , k =  2.703801433319203\n",
      "the temp variable is distributed normally\n"
     ]
    }
   ],
   "source": [
    "# find z-score and p-value \n",
    "# if \n",
    "k,p=stats.mstats.normaltest(temp) \n",
    "print(p,' = p , k = ',k)\n",
    "# we use p value to test if the variable is normal or not\n",
    "# if p < 0.05:\n",
    "if p < 0.01:\n",
    "  print('the temp varible is not normal')\n",
    "else:\n",
    "  print('the temp variable is distributed normally')"
   ]
  },
  {
   "cell_type": "markdown",
   "metadata": {},
   "source": [
    "#### Testing if the distribution is normal by using graphical methods "
   ]
  },
  {
   "cell_type": "code",
   "execution_count": 7,
   "metadata": {},
   "outputs": [
    {
     "name": "stdout",
     "output_type": "stream",
     "text": [
      "98.24923076923075\n",
      "0.730357778905038\n",
      "130\n"
     ]
    },
    {
     "data": {
      "image/png": "[encoded data removed]",
      "text/plain": [
       "<Figure size 432x288 with 1 Axes>"
      ]
     },
     "metadata": {},
     "output_type": "display_data"
    }
   ],
   "source": [
    "# find mean and std.dev of distribution\n",
    "data_mean = temp.mean()\n",
    "data_sd = temp.std()\n",
    "\n",
    "print(data_mean)\n",
    "print(data_sd)\n",
    "\n",
    "# y-axis as the gaussian\n",
    "y_axis = norm.pdf(temp, data_mean, data_sd)\n",
    "print(len(y_axis))\n",
    "\n",
    "# plot data\n",
    "pyplot.plot(temp, y_axis)\n",
    "pyplot.show()"
   ]
  },
  {
   "cell_type": "code",
   "execution_count": 8,
   "metadata": {},
   "outputs": [
    {
     "data": {
      "text/plain": [
       "array([[<matplotlib.axes._subplots.AxesSubplot object at 0x1160a7f98>]],\n",
       "      dtype=object)"
      ]
     },
     "execution_count": 8,
     "metadata": {},
     "output_type": "execute_result"
    },
    {
     "data": {
      "image/png": "[encoded data removed]",
      "text/plain": [
       "<Figure size 432x288 with 1 Axes>"
      ]
     },
     "metadata": {},
     "output_type": "display_data"
    }
   ],
   "source": [
    "df.hist('temperature', bins=30)"
   ]
  },
  {
   "cell_type": "code",
   "execution_count": 9,
   "metadata": {},
   "outputs": [
    {
     "data": {
      "image/png": "[encoded data removed]",
      "text/plain": [
       "<Figure size 432x288 with 1 Axes>"
      ]
     },
     "metadata": {},
     "output_type": "display_data"
    }
   ],
   "source": [
    "# find mean and std.dev of distribution\n",
    "data_mean = temp.mean()\n",
    "data_sd = temp.std()\n",
    "\n",
    "# y-axis as the gaussian\n",
    "y_axis = norm.pdf(temp, data_mean, data_sd)\n",
    "\n",
    "# plot data\n",
    "pyplot.hist(df['temperature'], bins=20, density=True, zorder=1)\n",
    "pyplot.scatter(temp, y_axis, c='red',zorder=2)\n",
    "pyplot.show()"
   ]
  },
  {
   "cell_type": "markdown",
   "metadata": {},
   "source": [
    "### The graphics show how the data distribution actually has a bell shaped curve which means that the temperature (temp) variable approximates very well the normal distribution."
   ]
  },
  {
   "cell_type": "markdown",
   "metadata": {},
   "source": [
    "### 2- Is the sample size large? Are the observations independent? "
   ]
  },
  {
   "cell_type": "markdown",
   "metadata": {},
   "source": [
    "#### There is a connection between the sample size and the standard error.  The formula that connects those two quantities is :  standard_error = sigma / sqrt(n) where n is the sample size.  As the sample size increases the standard error will decrease. So if the standard error decreases we can say that a larger sample represents better a certain population thus we can be more confident about our sample. This confidence can be expressed through the zscore and we can use it so to express different levels of confidence. In this sense, a smaller error represents a larger confidence.  \n"
   ]
  },
  {
   "cell_type": "code",
   "execution_count": 10,
   "metadata": {},
   "outputs": [
    {
     "data": {
      "text/plain": [
       "0.06405661469519337"
      ]
     },
     "execution_count": 10,
     "metadata": {},
     "output_type": "execute_result"
    }
   ],
   "source": [
    "# here I compute the standard_error\n",
    "import math\n",
    "\n",
    "standard_error = data_sd/math.sqrt(temp.size)\n",
    "standard_error"
   ]
  },
  {
   "cell_type": "code",
   "execution_count": 11,
   "metadata": {},
   "outputs": [],
   "source": [
    "# for an unknown population size or a very large population size we can use the following formula \n",
    "# sample size = (Z-score)2 * StdDev*(1-StdDev) / (standard_error)2\n",
    "# Valutare il sample size in rapporto al livello di precisione desiderato. \n",
    "# In questo caso, considerando che la 95% di una distribuzione normale è tra +/- 2 std del, il tuo risultato \n",
    "# ci dice che la tua stima della media della temperatura sarà in un intervallo di 2.6 gradi. \n",
    "# È un livello di precisione soddisfacente in questo contesto?\n",
    "# Sull'indipendanza, un modo alternativo di porre la domanda è: la distribuzione delle temperature varia in modo \n",
    "# sistematico a seconda di altre caratteristiche delle tue osservazioni?\n",
    "# Es uomini / donne? Anziani / giovani? Ecc. Qui potresti  paragonare le medie e varianze tra gruppi; \n",
    "# fare istogrammi  tra gruppi, oppure un t-test\n"
   ]
  },
  {
   "cell_type": "code",
   "execution_count": 12,
   "metadata": {},
   "outputs": [
    {
     "data": {
      "text/plain": [
       "129.8755481405471"
      ]
     },
     "execution_count": 12,
     "metadata": {},
     "output_type": "execute_result"
    }
   ],
   "source": [
    "zscore_90 = 1.645 # corresponding to 90% confidence\n",
    "zscore_95 = 1.96 # corresponding to 95% confidence \n",
    "zscore_99 = 2.576 # corresponding to 99% confidence\n",
    "\n",
    "sample_size = zscore_90*zscore_90 * data_sd*(1-data_sd)/(standard_error*standard_error)\n",
    "sample_size"
   ]
  },
  {
   "cell_type": "code",
   "execution_count": 13,
   "metadata": {},
   "outputs": [
    {
     "data": {
      "text/plain": [
       "(130,)"
      ]
     },
     "execution_count": 13,
     "metadata": {},
     "output_type": "execute_result"
    }
   ],
   "source": [
    "# the sample size is enough if we want to have a 90% confidence.\n",
    "temp.shape"
   ]
  },
  {
   "cell_type": "code",
   "execution_count": 14,
   "metadata": {},
   "outputs": [],
   "source": [
    "# The equation above shows that given the standard error, we can say with a level of confidence of 90% \n",
    "# that the sample is large(enough).\n"
   ]
  },
  {
   "cell_type": "markdown",
   "metadata": {},
   "source": [
    "###  Are the observations independent?\n",
    "#### For this point I have been using a t-test to check the independence between the men and women observations.\n",
    "#### My H_zero for this test is \"Those are the same distributions (no difference between the sample means).\" thus the observations are not indepenent\n",
    "#### My alternativa hypotheis is \"There is some difference between the sample means\" so H_zero can be rejected. \n"
   ]
  },
  {
   "cell_type": "code",
   "execution_count": 15,
   "metadata": {},
   "outputs": [
    {
     "name": "stdout",
     "output_type": "stream",
     "text": [
      "Statistics=-2.285, p=0.024\n",
      "Different distributions (reject H0)\n"
     ]
    }
   ],
   "source": [
    "# take the data for men and women\n",
    "dati_men = df[df['gender'] == 'M']\n",
    "dati_women = df[df['gender'] == 'F']\n",
    "\n",
    "# perform the test by \n",
    "stat, p = ttest_ind(dati_men['temperature'], dati_women['temperature'])\n",
    "\n",
    "print('Statistics=%.3f, p=%.3f' % (stat, p)) # interpret\n",
    "alpha = 0.05\n",
    "\n",
    "\n",
    "if p > alpha:\n",
    "    print('Same distributions (fail to reject H0)')\n",
    "else:\n",
    "    print('Different distributions (reject H0)')"
   ]
  },
  {
   "cell_type": "markdown",
   "metadata": {},
   "source": [
    "#### the t-test shows that the two distributions are different and this means that the observations are independent."
   ]
  },
  {
   "cell_type": "markdown",
   "metadata": {},
   "source": [
    "### 3- Is the true population mean really 98.6 degrees F? "
   ]
  },
  {
   "cell_type": "markdown",
   "metadata": {},
   "source": [
    "#### For answering this question I need to consider the mean and the standard error i have already computed above. The difference between the mean which is 98.249 and the required mean 98.6 is 0.35 degrees while my standard error is 0.062 . By using the formula ((x-mean) / sigma) I can calculate the standard variable and use it for evaluating if the true mean is 98.6 degrees F. "
   ]
  },
  {
   "cell_type": "code",
   "execution_count": 21,
   "metadata": {},
   "outputs": [
    {
     "data": {
      "text/plain": [
       "5.64516129032258"
      ]
     },
     "execution_count": 21,
     "metadata": {},
     "output_type": "execute_result"
    }
   ],
   "source": [
    "z_standard = 0.35 / 0.062\n",
    "z_standard"
   ]
  },
  {
   "cell_type": "markdown",
   "metadata": {},
   "source": [
    "#### My standard variable z_standard is equal to 5.64 . Here we are looking for true mean to be different from 98.6  so either mean > 98.6 or mean < 98.6. This means also that we have to consider both parts of the bell shaped curve of standard variable distribution. So we have to check that P(x < 5.64) and  P(x > 5.64) where x is the random variable. Finally, by checking the table of quantiles of the standard distribution we see that the value 5.64 corresponds to  a very improbable probability for the 98.6 degrees to be the real mean. In order to formulate the problem as an hypothesis test then I can say that my zero hypothesis is H0 : \"mean = 98.6\" while my alternative hypothesis is Ha : \"mean != 98.6\". Given that the probability I calculated above is very very small I can say that I can reject the H0. So the mean is different from 98.6 degrees F.\n"
   ]
  },
  {
   "cell_type": "markdown",
   "metadata": {},
   "source": [
    "### The different point of the section three are as below : First, try a bootstrap hypothesis test.\n"
   ]
  },
  {
   "cell_type": "code",
   "execution_count": null,
   "metadata": {},
   "outputs": [],
   "source": []
  },
  {
   "cell_type": "markdown",
   "metadata": {},
   "source": [
    "#### Now, let's try frequentist statistical testing. Would you use a one-sample or two-sample test? Why?\n",
    "#### In this situation, is it appropriate to use the tt or zz statistic?\n",
    "#### If we have more than 120 observations (in this case we have 130) using a z-score or a t-score is the same\n"
   ]
  },
  {
   "cell_type": "markdown",
   "metadata": {},
   "source": [
    "#### Now try using the other test. How is the result be different? Why? \n",
    "#### The result does not change because we have a sample of more than 120 observations. \n"
   ]
  },
  {
   "cell_type": "markdown",
   "metadata": {},
   "source": [
    "### 4 - Draw a small sample of size 10 from the data and repeat both frequentist tests.\n",
    "\n",
    "#### Which one is the correct one to use?\n",
    "#### What do you notice? What does this tell you about the difference in application of the tt and zz statistic? "
   ]
  },
  {
   "cell_type": "code",
   "execution_count": 26,
   "metadata": {},
   "outputs": [
    {
     "name": "stdout",
     "output_type": "stream",
     "text": [
      "Bootstrap Sample: [98.3 98.  97.6 98.7 97.7 98.  98.3 98.5 98.9 98.7]\n"
     ]
    }
   ],
   "source": [
    "### Here I'm using a sample of 10 values . \n",
    "bootstrap = resample(temp, replace=True, n_samples=10, random_state=1)\n",
    "print('Bootstrap Sample: %s' % bootstrap)"
   ]
  },
  {
   "cell_type": "code",
   "execution_count": 33,
   "metadata": {},
   "outputs": [],
   "source": [
    "b_mean = bootstrap.mean()\n",
    "b_std = bootstrap.std()\n"
   ]
  },
  {
   "cell_type": "code",
   "execution_count": 34,
   "metadata": {},
   "outputs": [
    {
     "data": {
      "text/plain": [
       "0.41725292090050325"
      ]
     },
     "execution_count": 34,
     "metadata": {},
     "output_type": "execute_result"
    }
   ],
   "source": [
    "b_mean\n",
    "b_std"
   ]
  },
  {
   "cell_type": "code",
   "execution_count": null,
   "metadata": {},
   "outputs": [],
   "source": []
  }
 ],
 "metadata": {
  "kernelspec": {
   "display_name": "Python 3",
   "language": "python",
   "name": "python3"
  },
  "language_info": {
   "codemirror_mode": {
    "name": "ipython",
    "version": 3
   },
   "file_extension": ".py",
   "mimetype": "text/x-python",
   "name": "python",
   "nbconvert_exporter": "python",
   "pygments_lexer": "ipython3",
   "version": "3.6.4"
  }
 },
 "nbformat": 4,
 "nbformat_minor": 1
}
